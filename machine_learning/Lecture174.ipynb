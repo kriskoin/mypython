{
 "cells": [
  {
   "cell_type": "code",
   "execution_count": 17,
   "id": "f754af48-721c-4ef3-8df2-c95675321025",
   "metadata": {},
   "outputs": [
    {
     "data": {
      "text/plain": [
       "1.0"
      ]
     },
     "execution_count": 17,
     "metadata": {},
     "output_type": "execute_result"
    }
   ],
   "source": [
    "#\n",
    "# Course: ultimate python\n",
    "# https://www.udemy.com/course/ultimate-python-de-cero-a-programador-experto/\n",
    "#\n",
    "#tratando de predecir 14\n",
    "import pandas as p\n",
    "from sklearn.tree import DecisionTreeClassifier\n",
    "from sklearn.model_selection import train_test_split\n",
    "from sklearn.metrics import accuracy_score\n",
    "data_juegos = p.read_csv(\"juegos-ml.csv\")\n",
    "X = data_juegos.drop(columns=[\"juegos\"])\n",
    "y = data_juegos[\"juegos\"]\n",
    "X_entrenar, X_prueba, y_entrenar,y_prueba = train_test_split(X.values,y,test_size=0.2)\n",
    "\n",
    "modelo = DecisionTreeClassifier()\n",
    "modelo.fit(X.values,y)\n",
    "predicciones = modelo.predict(X_prueba)\n",
    "puntaje  = accuracy_score(y_prueba,predicciones)\n",
    "puntaje"
   ]
  }
 ],
 "metadata": {
  "kernelspec": {
   "display_name": "Python 3 (ipykernel)",
   "language": "python",
   "name": "python3"
  },
  "language_info": {
   "codemirror_mode": {
    "name": "ipython",
    "version": 3
   },
   "file_extension": ".py",
   "mimetype": "text/x-python",
   "name": "python",
   "nbconvert_exporter": "python",
   "pygments_lexer": "ipython3",
   "version": "3.12.4"
  }
 },
 "nbformat": 4,
 "nbformat_minor": 5
}
