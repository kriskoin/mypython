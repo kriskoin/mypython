{
 "cells": [
  {
   "cell_type": "code",
   "execution_count": 4,
   "id": "f754af48-721c-4ef3-8df2-c95675321025",
   "metadata": {},
   "outputs": [
    {
     "data": {
      "text/plain": [
       "['recomendador-juegos.joblib']"
      ]
     },
     "execution_count": 4,
     "metadata": {},
     "output_type": "execute_result"
    }
   ],
   "source": [
    "#\n",
    "# Course: ultimate python\n",
    "# https://www.udemy.com/course/ultimate-python-de-cero-a-programador-experto/\n",
    "#\n",
    "\n",
    "import pandas as p\n",
    "from sklearn.tree import DecisionTreeClassifier\n",
    "import joblib\n",
    "\n",
    "# data_juegos = p.read_csv(\"juegos-ml.csv\")\n",
    "# X = data_juegos.drop(columns=[\"juegos\"])\n",
    "# y = data_juegos[\"juegos\"]\n",
    "\n",
    "modelo = joblib.load('recomendador-juegos.joblib')\n",
    "predicciones = modelo.predict([[14,0]])\n",
    "predicciones \n"
   ]
  },
  {
   "cell_type": "code",
   "execution_count": null,
   "id": "f233ef50-72ff-4103-908b-439682c52b2a",
   "metadata": {},
   "outputs": [],
   "source": []
  }
 ],
 "metadata": {
  "kernelspec": {
   "display_name": "Python 3 (ipykernel)",
   "language": "python",
   "name": "python3"
  },
  "language_info": {
   "codemirror_mode": {
    "name": "ipython",
    "version": 3
   },
   "file_extension": ".py",
   "mimetype": "text/x-python",
   "name": "python",
   "nbconvert_exporter": "python",
   "pygments_lexer": "ipython3",
   "version": "3.12.4"
  }
 },
 "nbformat": 4,
 "nbformat_minor": 5
}
