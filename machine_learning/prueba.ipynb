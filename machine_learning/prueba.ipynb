{
 "cells": [
  {
   "cell_type": "code",
   "execution_count": 2,
   "id": "9cb42b7e-b1ad-4c9e-8214-f4eb3d696ffb",
   "metadata": {},
   "outputs": [
    {
     "name": "stdout",
     "output_type": "stream",
     "text": [
      "Hola me dicen Kris\n"
     ]
    }
   ],
   "source": [
    "#\n",
    "# Course: ultimate python\n",
    "# https://www.udemy.com/course/ultimate-python-de-cero-a-programador-experto/\n",
    "# Lecture 168\n",
    "#\n",
    "#\n",
    "# esto es mi primer documento de prueba para jupyter\n",
    "\n",
    "print(\"Hola me dicen Kris\")"
   ]
  },
  {
   "cell_type": "code",
   "execution_count": null,
   "id": "0b096596-664d-41fa-b220-726e0d56e208",
   "metadata": {},
   "outputs": [],
   "source": []
  }
 ],
 "metadata": {
  "kernelspec": {
   "display_name": "Python 3 (ipykernel)",
   "language": "python",
   "name": "python3"
  },
  "language_info": {
   "codemirror_mode": {
    "name": "ipython",
    "version": 3
   },
   "file_extension": ".py",
   "mimetype": "text/x-python",
   "name": "python",
   "nbconvert_exporter": "python",
   "pygments_lexer": "ipython3",
   "version": "3.12.4"
  }
 },
 "nbformat": 4,
 "nbformat_minor": 5
}
