{
 "cells": [
  {
   "cell_type": "code",
   "execution_count": null,
   "id": "f2961f98-8caa-44ea-a664-6496e2942baf",
   "metadata": {},
   "outputs": [],
   "source": [
    "import pandas as p\n",
    "data_juegos = p.read_csv(\"juegos-ml.csv\")\n",
    "data_juegos"
   ]
  }
 ],
 "metadata": {
  "kernelspec": {
   "display_name": "Python 3 (ipykernel)",
   "language": "python",
   "name": "python3"
  },
  "language_info": {
   "codemirror_mode": {
    "name": "ipython",
    "version": 3
   },
   "file_extension": ".py",
   "mimetype": "text/x-python",
   "name": "python",
   "nbconvert_exporter": "python",
   "pygments_lexer": "ipython3",
   "version": "3.12.4"
  }
 },
 "nbformat": 4,
 "nbformat_minor": 5
}
